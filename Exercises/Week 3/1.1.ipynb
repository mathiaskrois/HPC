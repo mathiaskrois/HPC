{
 "cells": [
  {
   "cell_type": "code",
   "execution_count": 1,
   "id": "initial_id",
   "metadata": {
    "collapsed": true,
    "ExecuteTime": {
     "end_time": "2025-02-26T12:29:06.308606Z",
     "start_time": "2025-02-26T12:29:06.236336Z"
    }
   },
   "outputs": [
    {
     "name": "stdout",
     "output_type": "stream",
     "text": [
      "Time for 2 * mat[:, 0] repeated 1000 times: 0.001403 seconds\n",
      "Time for 2 * mat[0, :] repeated 1000 times: 0.000983 seconds\n"
     ]
    }
   ],
   "source": [
    "import time\n",
    "import numpy as np\n",
    "\n",
    "# Parameters\n",
    "SIZE = 1000       # Dimension of the matrix\n",
    "REPETITIONS = 1000  # Number of times to repeat each operation\n",
    "\n",
    "# Create a random matrix\n",
    "mat = np.random.rand(SIZE, SIZE)\n",
    "\n",
    "# Time measuring column slice: 2 * mat[:, 0]\n",
    "start_time = time.perf_counter()\n",
    "for _ in range(REPETITIONS):\n",
    "    result_col = 2 * mat[:, 0]\n",
    "end_time = time.perf_counter()\n",
    "time_col = end_time - start_time\n",
    "\n",
    "# Time measuring row slice: 2 * mat[0, :]\n",
    "start_time = time.perf_counter()\n",
    "for _ in range(REPETITIONS):\n",
    "    result_row = 2 * mat[0, :]\n",
    "end_time = time.perf_counter()\n",
    "time_row = end_time - start_time\n",
    "\n",
    "# Print results\n",
    "print(f\"Time for 2 * mat[:, 0] repeated {REPETITIONS} times: {time_col:.6f} seconds\")\n",
    "print(f\"Time for 2 * mat[0, :] repeated {REPETITIONS} times: {time_row:.6f} seconds\")\n"
   ]
  },
  {
   "cell_type": "code",
   "execution_count": null,
   "outputs": [],
   "source": [],
   "metadata": {
    "collapsed": false
   },
   "id": "5d50d30a1442a1a7"
  }
 ],
 "metadata": {
  "kernelspec": {
   "display_name": "Python 3",
   "language": "python",
   "name": "python3"
  },
  "language_info": {
   "codemirror_mode": {
    "name": "ipython",
    "version": 2
   },
   "file_extension": ".py",
   "mimetype": "text/x-python",
   "name": "python",
   "nbconvert_exporter": "python",
   "pygments_lexer": "ipython2",
   "version": "2.7.6"
  }
 },
 "nbformat": 4,
 "nbformat_minor": 5
}
