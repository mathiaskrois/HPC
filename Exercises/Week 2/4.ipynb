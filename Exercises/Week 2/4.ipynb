{
 "cells": [
  {
   "cell_type": "code",
   "execution_count": 15,
   "id": "initial_id",
   "metadata": {
    "collapsed": true,
    "ExecuteTime": {
     "end_time": "2025-02-12T08:26:27.716878Z",
     "start_time": "2025-02-12T08:26:27.711595Z"
    }
   },
   "outputs": [
    {
     "name": "stdout",
     "output_type": "stream",
     "text": [
      "([4, 9, 25], [8, 27, 125])\n"
     ]
    }
   ],
   "source": [
    "def squarecubes(arr):\n",
    "    a = []\n",
    "    b = []\n",
    "    for x in arr:\n",
    "        a.append(x*x)\n",
    "        b.append(x*x*x)\n",
    "    return tuple([a, b])\n",
    "\n",
    "x = [2,3,5]\n",
    "\n",
    "print(squarecubes(x))"
   ]
  },
  {
   "cell_type": "code",
   "execution_count": 4,
   "outputs": [],
   "source": [],
   "metadata": {
    "collapsed": false,
    "ExecuteTime": {
     "end_time": "2025-02-12T08:18:52.509610Z",
     "start_time": "2025-02-12T08:18:52.502779Z"
    }
   },
   "id": "b188b23f69b6088e"
  },
  {
   "cell_type": "code",
   "execution_count": null,
   "outputs": [],
   "source": [],
   "metadata": {
    "collapsed": false
   },
   "id": "95a8ba1a2d160aaa"
  }
 ],
 "metadata": {
  "kernelspec": {
   "display_name": "Python 3",
   "language": "python",
   "name": "python3"
  },
  "language_info": {
   "codemirror_mode": {
    "name": "ipython",
    "version": 2
   },
   "file_extension": ".py",
   "mimetype": "text/x-python",
   "name": "python",
   "nbconvert_exporter": "python",
   "pygments_lexer": "ipython2",
   "version": "2.7.6"
  }
 },
 "nbformat": 4,
 "nbformat_minor": 5
}
